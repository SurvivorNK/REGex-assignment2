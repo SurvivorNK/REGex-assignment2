{
 "cells": [
  {
   "cell_type": "markdown",
   "id": "a9409b2b",
   "metadata": {},
   "source": [
    "## Task 2\n",
    "\n",
    "## Registration Id:SIRSS2272\n",
    "\n",
    "## Name: Nishant Kumar"
   ]
  },
  {
   "cell_type": "markdown",
   "id": "a08c4827",
   "metadata": {},
   "source": [
    "Q1. Write a lambda expression to extract first word of a string."
   ]
  },
  {
   "cell_type": "code",
   "execution_count": 9,
   "id": "885059b6",
   "metadata": {},
   "outputs": [
    {
     "data": {
      "text/plain": [
       "'harry'"
      ]
     },
     "execution_count": 9,
     "metadata": {},
     "output_type": "execute_result"
    }
   ],
   "source": [
    "a=\"harry is the smartest boy of the class\"\n",
    "b= lambda str:str.split()[0]\n",
    "b(a)"
   ]
  },
  {
   "cell_type": "markdown",
   "id": "b093d42f",
   "metadata": {},
   "source": [
    "Q2: Write a function to extract first word of s string(with many word seperated by space"
   ]
  },
  {
   "cell_type": "code",
   "execution_count": 10,
   "id": "d16779ad",
   "metadata": {},
   "outputs": [
    {
     "data": {
      "text/plain": [
       "'It'"
      ]
     },
     "execution_count": 10,
     "metadata": {},
     "output_type": "execute_result"
    }
   ],
   "source": [
    "s = \" It always seems impossible until it's done.\" \n",
    "def fword(s):\n",
    "    return s.split()[0]\n",
    "\n",
    "fword(s)"
   ]
  },
  {
   "cell_type": "markdown",
   "id": "5b2e9a99",
   "metadata": {},
   "source": [
    "Q3: Extract the first word from every string from a list of strings by using map function"
   ]
  },
  {
   "cell_type": "code",
   "execution_count": 11,
   "id": "790945a1",
   "metadata": {},
   "outputs": [
    {
     "data": {
      "text/plain": [
       "['Captain', 'Black', 'Wanda']"
      ]
     },
     "execution_count": 11,
     "metadata": {},
     "output_type": "execute_result"
    }
   ],
   "source": [
    "Marvel = ['Captain America', 'Black Widow', 'Wanda Vision']\n",
    "list(map(lambda s: s.split()[0], Marvel))"
   ]
  },
  {
   "cell_type": "markdown",
   "id": "75752d85",
   "metadata": {},
   "source": [
    "Q4: Write a function to return a list of prime factors of a given number.\n",
    "\n"
   ]
  },
  {
   "cell_type": "code",
   "execution_count": 12,
   "id": "8bbd7311",
   "metadata": {},
   "outputs": [
    {
     "name": "stdout",
     "output_type": "stream",
     "text": [
      "Enter the number: 170\n",
      "[2, 5, 17]\n"
     ]
    }
   ],
   "source": [
    "def prime(x):\n",
    "    fact = []\n",
    "    div = 2\n",
    "    while div <= x:\n",
    "        if x%div == 0:\n",
    "            fact.append(div)\n",
    "            x = x/div\n",
    "        else:\n",
    "            div += 1 \n",
    "    return fact\n",
    "\n",
    "n = input('Enter the number: ')\n",
    "print(prime(int(n)))"
   ]
  },
  {
   "cell_type": "markdown",
   "id": "80713de6",
   "metadata": {},
   "source": [
    "Q5: Write a function that finds 2nd largest among 4 numbers (Repetitions are allowed, without sorting)."
   ]
  },
  {
   "cell_type": "code",
   "execution_count": 14,
   "id": "44031b50",
   "metadata": {},
   "outputs": [
    {
     "name": "stdout",
     "output_type": "stream",
     "text": [
      "45 46 98 87\n",
      "87\n"
     ]
    }
   ],
   "source": [
    "n = input()\n",
    "list1 = n.split()\n",
    "list1 = set(list1)\n",
    "def sec_large():\n",
    "    list1.remove(max(list1))\n",
    "    print(max(list1))\n",
    "sec_large()"
   ]
  },
  {
   "cell_type": "code",
   "execution_count": null,
   "id": "1ce32c25",
   "metadata": {},
   "outputs": [],
   "source": []
  }
 ],
 "metadata": {
  "kernelspec": {
   "display_name": "Python 3",
   "language": "python",
   "name": "python3"
  },
  "language_info": {
   "codemirror_mode": {
    "name": "ipython",
    "version": 3
   },
   "file_extension": ".py",
   "mimetype": "text/x-python",
   "name": "python",
   "nbconvert_exporter": "python",
   "pygments_lexer": "ipython3",
   "version": "3.8.8"
  }
 },
 "nbformat": 4,
 "nbformat_minor": 5
}
